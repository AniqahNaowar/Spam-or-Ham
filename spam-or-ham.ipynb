{
 "cells": [
  {
   "cell_type": "markdown",
   "id": "a69ad48e",
   "metadata": {
    "papermill": {
     "duration": 0.009952,
     "end_time": "2022-09-07T03:39:39.853777",
     "exception": false,
     "start_time": "2022-09-07T03:39:39.843825",
     "status": "completed"
    },
    "tags": []
   },
   "source": [
    "# **Importing Libraries**"
   ]
  },
  {
   "cell_type": "code",
   "execution_count": 1,
   "id": "dd4a51ad",
   "metadata": {
    "execution": {
     "iopub.execute_input": "2022-09-07T03:39:39.875108Z",
     "iopub.status.busy": "2022-09-07T03:39:39.873562Z",
     "iopub.status.idle": "2022-09-07T03:39:42.435475Z",
     "shell.execute_reply": "2022-09-07T03:39:42.434212Z"
    },
    "papermill": {
     "duration": 2.576206,
     "end_time": "2022-09-07T03:39:42.439141",
     "exception": false,
     "start_time": "2022-09-07T03:39:39.862935",
     "status": "completed"
    },
    "tags": []
   },
   "outputs": [
    {
     "name": "stdout",
     "output_type": "stream",
     "text": [
      "/kaggle/input/sms-spam-collection-dataset/spam.csv\n"
     ]
    }
   ],
   "source": [
    "import pandas as pd\n",
    "import numpy as np\n",
    "import matplotlib.pyplot as plt\n",
    "import seaborn as sns\n",
    "import re\n",
    "import string\n",
    "\n",
    "import nltk\n",
    "from nltk.corpus import stopwords\n",
    "from nltk.stem import WordNetLemmatizer\n",
    "\n",
    "from sklearn.feature_extraction.text import TfidfVectorizer\n",
    "from sklearn.model_selection import train_test_split\n",
    "from sklearn import svm\n",
    "from sklearn import naive_bayes\n",
    "from sklearn.ensemble import RandomForestClassifier\n",
    "from sklearn.neighbors import KNeighborsClassifier\n",
    "\n",
    "from sklearn import metrics\n",
    "from sklearn.metrics import precision_score, recall_score, confusion_matrix, classification_report,\\\n",
    "                    accuracy_score, f1_score\n",
    "import os\n",
    "for dirname, _, filenames in os.walk('/kaggle/input'):\n",
    "    for filename in filenames:\n",
    "        print(os.path.join(dirname, filename))\n",
    "\n",
    "import warnings\n",
    "warnings.filterwarnings('ignore')"
   ]
  },
  {
   "cell_type": "markdown",
   "id": "0360a439",
   "metadata": {
    "papermill": {
     "duration": 0.008702,
     "end_time": "2022-09-07T03:39:42.457475",
     "exception": false,
     "start_time": "2022-09-07T03:39:42.448773",
     "status": "completed"
    },
    "tags": []
   },
   "source": [
    "# **Loading Data**"
   ]
  },
  {
   "cell_type": "code",
   "execution_count": 2,
   "id": "da30d0a7",
   "metadata": {
    "execution": {
     "iopub.execute_input": "2022-09-07T03:39:42.478980Z",
     "iopub.status.busy": "2022-09-07T03:39:42.478156Z",
     "iopub.status.idle": "2022-09-07T03:39:42.537550Z",
     "shell.execute_reply": "2022-09-07T03:39:42.536338Z"
    },
    "papermill": {
     "duration": 0.073987,
     "end_time": "2022-09-07T03:39:42.540576",
     "exception": false,
     "start_time": "2022-09-07T03:39:42.466589",
     "status": "completed"
    },
    "tags": []
   },
   "outputs": [
    {
     "data": {
      "text/html": [
       "<div>\n",
       "<style scoped>\n",
       "    .dataframe tbody tr th:only-of-type {\n",
       "        vertical-align: middle;\n",
       "    }\n",
       "\n",
       "    .dataframe tbody tr th {\n",
       "        vertical-align: top;\n",
       "    }\n",
       "\n",
       "    .dataframe thead th {\n",
       "        text-align: right;\n",
       "    }\n",
       "</style>\n",
       "<table border=\"1\" class=\"dataframe\">\n",
       "  <thead>\n",
       "    <tr style=\"text-align: right;\">\n",
       "      <th></th>\n",
       "      <th>v1</th>\n",
       "      <th>v2</th>\n",
       "      <th>Unnamed: 2</th>\n",
       "      <th>Unnamed: 3</th>\n",
       "      <th>Unnamed: 4</th>\n",
       "    </tr>\n",
       "  </thead>\n",
       "  <tbody>\n",
       "    <tr>\n",
       "      <th>0</th>\n",
       "      <td>ham</td>\n",
       "      <td>Go until jurong point, crazy.. Available only ...</td>\n",
       "      <td>NaN</td>\n",
       "      <td>NaN</td>\n",
       "      <td>NaN</td>\n",
       "    </tr>\n",
       "    <tr>\n",
       "      <th>1</th>\n",
       "      <td>ham</td>\n",
       "      <td>Ok lar... Joking wif u oni...</td>\n",
       "      <td>NaN</td>\n",
       "      <td>NaN</td>\n",
       "      <td>NaN</td>\n",
       "    </tr>\n",
       "    <tr>\n",
       "      <th>2</th>\n",
       "      <td>spam</td>\n",
       "      <td>Free entry in 2 a wkly comp to win FA Cup fina...</td>\n",
       "      <td>NaN</td>\n",
       "      <td>NaN</td>\n",
       "      <td>NaN</td>\n",
       "    </tr>\n",
       "    <tr>\n",
       "      <th>3</th>\n",
       "      <td>ham</td>\n",
       "      <td>U dun say so early hor... U c already then say...</td>\n",
       "      <td>NaN</td>\n",
       "      <td>NaN</td>\n",
       "      <td>NaN</td>\n",
       "    </tr>\n",
       "    <tr>\n",
       "      <th>4</th>\n",
       "      <td>ham</td>\n",
       "      <td>Nah I don't think he goes to usf, he lives aro...</td>\n",
       "      <td>NaN</td>\n",
       "      <td>NaN</td>\n",
       "      <td>NaN</td>\n",
       "    </tr>\n",
       "  </tbody>\n",
       "</table>\n",
       "</div>"
      ],
      "text/plain": [
       "     v1                                                 v2 Unnamed: 2  \\\n",
       "0   ham  Go until jurong point, crazy.. Available only ...        NaN   \n",
       "1   ham                      Ok lar... Joking wif u oni...        NaN   \n",
       "2  spam  Free entry in 2 a wkly comp to win FA Cup fina...        NaN   \n",
       "3   ham  U dun say so early hor... U c already then say...        NaN   \n",
       "4   ham  Nah I don't think he goes to usf, he lives aro...        NaN   \n",
       "\n",
       "  Unnamed: 3 Unnamed: 4  \n",
       "0        NaN        NaN  \n",
       "1        NaN        NaN  \n",
       "2        NaN        NaN  \n",
       "3        NaN        NaN  \n",
       "4        NaN        NaN  "
      ]
     },
     "execution_count": 2,
     "metadata": {},
     "output_type": "execute_result"
    }
   ],
   "source": [
    "spam_message = pd.read_csv('/kaggle/input/sms-spam-collection-dataset/spam.csv',encoding='latin-1')\n",
    "spam_message.head()"
   ]
  },
  {
   "cell_type": "code",
   "execution_count": 3,
   "id": "4cc80a98",
   "metadata": {
    "execution": {
     "iopub.execute_input": "2022-09-07T03:39:42.563399Z",
     "iopub.status.busy": "2022-09-07T03:39:42.562778Z",
     "iopub.status.idle": "2022-09-07T03:39:42.597760Z",
     "shell.execute_reply": "2022-09-07T03:39:42.596081Z"
    },
    "papermill": {
     "duration": 0.051728,
     "end_time": "2022-09-07T03:39:42.602035",
     "exception": false,
     "start_time": "2022-09-07T03:39:42.550307",
     "status": "completed"
    },
    "tags": []
   },
   "outputs": [
    {
     "name": "stdout",
     "output_type": "stream",
     "text": [
      "<class 'pandas.core.frame.DataFrame'>\n",
      "RangeIndex: 5572 entries, 0 to 5571\n",
      "Data columns (total 5 columns):\n",
      " #   Column      Non-Null Count  Dtype \n",
      "---  ------      --------------  ----- \n",
      " 0   v1          5572 non-null   object\n",
      " 1   v2          5572 non-null   object\n",
      " 2   Unnamed: 2  50 non-null     object\n",
      " 3   Unnamed: 3  12 non-null     object\n",
      " 4   Unnamed: 4  6 non-null      object\n",
      "dtypes: object(5)\n",
      "memory usage: 217.8+ KB\n"
     ]
    }
   ],
   "source": [
    "# information about dataset\n",
    "spam_message.info()"
   ]
  },
  {
   "cell_type": "code",
   "execution_count": 4,
   "id": "baef4f41",
   "metadata": {
    "execution": {
     "iopub.execute_input": "2022-09-07T03:39:42.623745Z",
     "iopub.status.busy": "2022-09-07T03:39:42.623041Z",
     "iopub.status.idle": "2022-09-07T03:39:42.631984Z",
     "shell.execute_reply": "2022-09-07T03:39:42.630587Z"
    },
    "papermill": {
     "duration": 0.022771,
     "end_time": "2022-09-07T03:39:42.634737",
     "exception": false,
     "start_time": "2022-09-07T03:39:42.611966",
     "status": "completed"
    },
    "tags": []
   },
   "outputs": [],
   "source": [
    "# dropping unwanted columns \n",
    "spam_message.drop(columns=['Unnamed: 2','Unnamed: 3','Unnamed: 4'],axis=1,inplace=True)"
   ]
  },
  {
   "cell_type": "code",
   "execution_count": 5,
   "id": "e687b482",
   "metadata": {
    "execution": {
     "iopub.execute_input": "2022-09-07T03:39:42.657057Z",
     "iopub.status.busy": "2022-09-07T03:39:42.655530Z",
     "iopub.status.idle": "2022-09-07T03:39:42.662446Z",
     "shell.execute_reply": "2022-09-07T03:39:42.661371Z"
    },
    "papermill": {
     "duration": 0.020358,
     "end_time": "2022-09-07T03:39:42.664848",
     "exception": false,
     "start_time": "2022-09-07T03:39:42.644490",
     "status": "completed"
    },
    "tags": []
   },
   "outputs": [],
   "source": [
    "# rename the dependent feature as 'type' and independent feature as 'text'\n",
    "spam_message.rename(columns = {'v1':'type', 'v2':'text'}, inplace = True)"
   ]
  },
  {
   "cell_type": "code",
   "execution_count": 6,
   "id": "cd8b46bc",
   "metadata": {
    "execution": {
     "iopub.execute_input": "2022-09-07T03:39:42.686854Z",
     "iopub.status.busy": "2022-09-07T03:39:42.686129Z",
     "iopub.status.idle": "2022-09-07T03:39:42.700097Z",
     "shell.execute_reply": "2022-09-07T03:39:42.698780Z"
    },
    "papermill": {
     "duration": 0.027435,
     "end_time": "2022-09-07T03:39:42.702772",
     "exception": false,
     "start_time": "2022-09-07T03:39:42.675337",
     "status": "completed"
    },
    "tags": []
   },
   "outputs": [
    {
     "data": {
      "text/html": [
       "<div>\n",
       "<style scoped>\n",
       "    .dataframe tbody tr th:only-of-type {\n",
       "        vertical-align: middle;\n",
       "    }\n",
       "\n",
       "    .dataframe tbody tr th {\n",
       "        vertical-align: top;\n",
       "    }\n",
       "\n",
       "    .dataframe thead th {\n",
       "        text-align: right;\n",
       "    }\n",
       "</style>\n",
       "<table border=\"1\" class=\"dataframe\">\n",
       "  <thead>\n",
       "    <tr style=\"text-align: right;\">\n",
       "      <th></th>\n",
       "      <th>type</th>\n",
       "      <th>text</th>\n",
       "    </tr>\n",
       "  </thead>\n",
       "  <tbody>\n",
       "    <tr>\n",
       "      <th>0</th>\n",
       "      <td>ham</td>\n",
       "      <td>Go until jurong point, crazy.. Available only ...</td>\n",
       "    </tr>\n",
       "    <tr>\n",
       "      <th>1</th>\n",
       "      <td>ham</td>\n",
       "      <td>Ok lar... Joking wif u oni...</td>\n",
       "    </tr>\n",
       "    <tr>\n",
       "      <th>2</th>\n",
       "      <td>spam</td>\n",
       "      <td>Free entry in 2 a wkly comp to win FA Cup fina...</td>\n",
       "    </tr>\n",
       "    <tr>\n",
       "      <th>3</th>\n",
       "      <td>ham</td>\n",
       "      <td>U dun say so early hor... U c already then say...</td>\n",
       "    </tr>\n",
       "    <tr>\n",
       "      <th>4</th>\n",
       "      <td>ham</td>\n",
       "      <td>Nah I don't think he goes to usf, he lives aro...</td>\n",
       "    </tr>\n",
       "  </tbody>\n",
       "</table>\n",
       "</div>"
      ],
      "text/plain": [
       "   type                                               text\n",
       "0   ham  Go until jurong point, crazy.. Available only ...\n",
       "1   ham                      Ok lar... Joking wif u oni...\n",
       "2  spam  Free entry in 2 a wkly comp to win FA Cup fina...\n",
       "3   ham  U dun say so early hor... U c already then say...\n",
       "4   ham  Nah I don't think he goes to usf, he lives aro..."
      ]
     },
     "execution_count": 6,
     "metadata": {},
     "output_type": "execute_result"
    }
   ],
   "source": [
    "spam_message.head()"
   ]
  },
  {
   "cell_type": "code",
   "execution_count": 7,
   "id": "87a06969",
   "metadata": {
    "execution": {
     "iopub.execute_input": "2022-09-07T03:39:42.724090Z",
     "iopub.status.busy": "2022-09-07T03:39:42.723575Z",
     "iopub.status.idle": "2022-09-07T03:39:42.915695Z",
     "shell.execute_reply": "2022-09-07T03:39:42.914695Z"
    },
    "papermill": {
     "duration": 0.206142,
     "end_time": "2022-09-07T03:39:42.918476",
     "exception": false,
     "start_time": "2022-09-07T03:39:42.712334",
     "status": "completed"
    },
    "tags": []
   },
   "outputs": [
    {
     "data": {
      "image/png": "[encoded data removed]",
      "text/plain": [
       "<Figure size 432x288 with 1 Axes>"
      ]
     },
     "metadata": {
      "needs_background": "light"
     },
     "output_type": "display_data"
    }
   ],
   "source": [
    "# visualizing target classes \n",
    "pal = sns.color_palette(\"GnBu\",n_colors=2)\n",
    "ax = sns.countplot(x='type',palette=pal, data=spam_message)\n",
    "for p in ax.patches:\n",
    "    ax.annotate(f'\\n{p.get_height()}',(p.get_x()+0.2,p.get_height()),  ha='center', va='center', size=18)\n",
    "ax.set(xlabel=\"Classes\", ylabel=\"Count\")\n",
    "plt.show()"
   ]
  },
  {
   "cell_type": "markdown",
   "id": "2ecbd5d2",
   "metadata": {
    "papermill": {
     "duration": 0.009087,
     "end_time": "2022-09-07T03:39:42.937150",
     "exception": false,
     "start_time": "2022-09-07T03:39:42.928063",
     "status": "completed"
    },
    "tags": []
   },
   "source": [
    "# **Data Preprocessing**"
   ]
  },
  {
   "cell_type": "code",
   "execution_count": 8,
   "id": "63787213",
   "metadata": {
    "execution": {
     "iopub.execute_input": "2022-09-07T03:39:42.959883Z",
     "iopub.status.busy": "2022-09-07T03:39:42.957949Z",
     "iopub.status.idle": "2022-09-07T03:39:42.969474Z",
     "shell.execute_reply": "2022-09-07T03:39:42.968318Z"
    },
    "papermill": {
     "duration": 0.025721,
     "end_time": "2022-09-07T03:39:42.972423",
     "exception": false,
     "start_time": "2022-09-07T03:39:42.946702",
     "status": "completed"
    },
    "tags": []
   },
   "outputs": [],
   "source": [
    "# changing target feature with numeric values 0 and 1\n",
    "spam_message['type'] = spam_message['type'].apply(lambda x: 0 if x == 'ham' else 1)"
   ]
  },
  {
   "cell_type": "code",
   "execution_count": 9,
   "id": "8bbc845d",
   "metadata": {
    "execution": {
     "iopub.execute_input": "2022-09-07T03:39:42.994744Z",
     "iopub.status.busy": "2022-09-07T03:39:42.993742Z",
     "iopub.status.idle": "2022-09-07T03:39:43.003682Z",
     "shell.execute_reply": "2022-09-07T03:39:43.002504Z"
    },
    "papermill": {
     "duration": 0.024564,
     "end_time": "2022-09-07T03:39:43.006924",
     "exception": false,
     "start_time": "2022-09-07T03:39:42.982360",
     "status": "completed"
    },
    "tags": []
   },
   "outputs": [
    {
     "data": {
      "text/plain": [
       "0    Go until jurong point, crazy.. Available only ...\n",
       "1                        Ok lar... Joking wif u oni...\n",
       "2    Free entry in 2 a wkly comp to win FA Cup fina...\n",
       "3    U dun say so early hor... U c already then say...\n",
       "4    Nah I don't think he goes to usf, he lives aro...\n",
       "Name: text, dtype: object"
      ]
     },
     "execution_count": 9,
     "metadata": {},
     "output_type": "execute_result"
    }
   ],
   "source": [
    "#  data before cleaning\n",
    "spam_message['text'].head()"
   ]
  },
  {
   "cell_type": "code",
   "execution_count": 10,
   "id": "276c421f",
   "metadata": {
    "execution": {
     "iopub.execute_input": "2022-09-07T03:39:43.031168Z",
     "iopub.status.busy": "2022-09-07T03:39:43.030239Z",
     "iopub.status.idle": "2022-09-07T03:39:43.099251Z",
     "shell.execute_reply": "2022-09-07T03:39:43.097762Z"
    },
    "papermill": {
     "duration": 0.084333,
     "end_time": "2022-09-07T03:39:43.102797",
     "exception": false,
     "start_time": "2022-09-07T03:39:43.018464",
     "status": "completed"
    },
    "tags": []
   },
   "outputs": [],
   "source": [
    "# cleaning text\n",
    "# converting characters into lowercase\n",
    "# removing punctuation and numbers\n",
    "spam_message['text'] = spam_message['text'].apply(lambda x : x.lower())\n",
    "spam_message['text'] = spam_message['text'].apply(lambda x : re.sub('[^a-zA-Z]',' ', x))\n",
    "spam_message['text'] =spam_message['text'].apply(lambda x : \" \".join([word for word in x.split()]))"
   ]
  },
  {
   "cell_type": "code",
   "execution_count": 11,
   "id": "8e7ec896",
   "metadata": {
    "execution": {
     "iopub.execute_input": "2022-09-07T03:39:43.124802Z",
     "iopub.status.busy": "2022-09-07T03:39:43.123957Z",
     "iopub.status.idle": "2022-09-07T03:39:55.359879Z",
     "shell.execute_reply": "2022-09-07T03:39:55.358611Z"
    },
    "papermill": {
     "duration": 12.250548,
     "end_time": "2022-09-07T03:39:55.363055",
     "exception": false,
     "start_time": "2022-09-07T03:39:43.112507",
     "status": "completed"
    },
    "tags": []
   },
   "outputs": [],
   "source": [
    "# removing stopwords (frequently occurring words such as few, is, an, etc)\n",
    "\n",
    "spam_message['text'] =spam_message['text'].apply(lambda x : \" \".join([word for word in x.split() \\\n",
    "                                                              if word not in stopwords.words('english')]))\n"
   ]
  },
  {
   "cell_type": "code",
   "execution_count": 12,
   "id": "a38b8e3b",
   "metadata": {
    "execution": {
     "iopub.execute_input": "2022-09-07T03:39:55.385376Z",
     "iopub.status.busy": "2022-09-07T03:39:55.384480Z",
     "iopub.status.idle": "2022-09-07T03:39:55.395371Z",
     "shell.execute_reply": "2022-09-07T03:39:55.393831Z"
    },
    "papermill": {
     "duration": 0.025413,
     "end_time": "2022-09-07T03:39:55.398426",
     "exception": false,
     "start_time": "2022-09-07T03:39:55.373013",
     "status": "completed"
    },
    "tags": []
   },
   "outputs": [
    {
     "data": {
      "text/plain": [
       "0    go jurong point crazy available bugis n great ...\n",
       "1                              ok lar joking wif u oni\n",
       "2    free entry wkly comp win fa cup final tkts st ...\n",
       "3                  u dun say early hor u c already say\n",
       "4               nah think goes usf lives around though\n",
       "Name: text, dtype: object"
      ]
     },
     "execution_count": 12,
     "metadata": {},
     "output_type": "execute_result"
    }
   ],
   "source": [
    "# data after removing punctuation, numbers and stopwords\n",
    "spam_message['text'].head(5)"
   ]
  },
  {
   "cell_type": "code",
   "execution_count": 13,
   "id": "c46690ed",
   "metadata": {
    "execution": {
     "iopub.execute_input": "2022-09-07T03:39:55.421232Z",
     "iopub.status.busy": "2022-09-07T03:39:55.419684Z",
     "iopub.status.idle": "2022-09-07T03:39:56.151250Z",
     "shell.execute_reply": "2022-09-07T03:39:56.149576Z"
    },
    "papermill": {
     "duration": 0.746196,
     "end_time": "2022-09-07T03:39:56.154403",
     "exception": false,
     "start_time": "2022-09-07T03:39:55.408207",
     "status": "completed"
    },
    "tags": []
   },
   "outputs": [
    {
     "name": "stderr",
     "output_type": "stream",
     "text": [
      "[nltk_data] Downloading package omw-1.4 to /usr/share/nltk_data...\n"
     ]
    },
    {
     "data": {
      "text/plain": [
       "True"
      ]
     },
     "execution_count": 13,
     "metadata": {},
     "output_type": "execute_result"
    }
   ],
   "source": [
    "nltk.download('omw-1.4')"
   ]
  },
  {
   "cell_type": "code",
   "execution_count": 14,
   "id": "1ccb919e",
   "metadata": {
    "execution": {
     "iopub.execute_input": "2022-09-07T03:39:56.177895Z",
     "iopub.status.busy": "2022-09-07T03:39:56.176998Z",
     "iopub.status.idle": "2022-09-07T03:39:59.325221Z",
     "shell.execute_reply": "2022-09-07T03:39:59.323782Z"
    },
    "papermill": {
     "duration": 3.164028,
     "end_time": "2022-09-07T03:39:59.328685",
     "exception": false,
     "start_time": "2022-09-07T03:39:56.164657",
     "status": "completed"
    },
    "tags": []
   },
   "outputs": [],
   "source": [
    "# Tokenization (Spliting each sentences into words) and \n",
    "# lemmatization (Converts a word to its root form. In this case, language is English and \n",
    "# after lemmatization, the output would be into English word)\n",
    "\n",
    "lemma = WordNetLemmatizer()\n",
    "spam_message['text'] =spam_message['text'].apply(lambda x : \" \".join([lemma.lemmatize(word,pos='v') for word in nltk.word_tokenize(x)]))\n"
   ]
  },
  {
   "cell_type": "code",
   "execution_count": 15,
   "id": "6066ac58",
   "metadata": {
    "execution": {
     "iopub.execute_input": "2022-09-07T03:39:59.350993Z",
     "iopub.status.busy": "2022-09-07T03:39:59.350420Z",
     "iopub.status.idle": "2022-09-07T03:39:59.363448Z",
     "shell.execute_reply": "2022-09-07T03:39:59.362169Z"
    },
    "papermill": {
     "duration": 0.027276,
     "end_time": "2022-09-07T03:39:59.366036",
     "exception": false,
     "start_time": "2022-09-07T03:39:59.338760",
     "status": "completed"
    },
    "tags": []
   },
   "outputs": [
    {
     "data": {
      "text/html": [
       "<div>\n",
       "<style scoped>\n",
       "    .dataframe tbody tr th:only-of-type {\n",
       "        vertical-align: middle;\n",
       "    }\n",
       "\n",
       "    .dataframe tbody tr th {\n",
       "        vertical-align: top;\n",
       "    }\n",
       "\n",
       "    .dataframe thead th {\n",
       "        text-align: right;\n",
       "    }\n",
       "</style>\n",
       "<table border=\"1\" class=\"dataframe\">\n",
       "  <thead>\n",
       "    <tr style=\"text-align: right;\">\n",
       "      <th></th>\n",
       "      <th>type</th>\n",
       "      <th>text</th>\n",
       "    </tr>\n",
       "  </thead>\n",
       "  <tbody>\n",
       "    <tr>\n",
       "      <th>0</th>\n",
       "      <td>0</td>\n",
       "      <td>go jurong point crazy available bugis n great ...</td>\n",
       "    </tr>\n",
       "    <tr>\n",
       "      <th>1</th>\n",
       "      <td>0</td>\n",
       "      <td>ok lar joke wif u oni</td>\n",
       "    </tr>\n",
       "    <tr>\n",
       "      <th>2</th>\n",
       "      <td>1</td>\n",
       "      <td>free entry wkly comp win fa cup final tkts st ...</td>\n",
       "    </tr>\n",
       "    <tr>\n",
       "      <th>3</th>\n",
       "      <td>0</td>\n",
       "      <td>u dun say early hor u c already say</td>\n",
       "    </tr>\n",
       "    <tr>\n",
       "      <th>4</th>\n",
       "      <td>0</td>\n",
       "      <td>nah think go usf live around though</td>\n",
       "    </tr>\n",
       "  </tbody>\n",
       "</table>\n",
       "</div>"
      ],
      "text/plain": [
       "   type                                               text\n",
       "0     0  go jurong point crazy available bugis n great ...\n",
       "1     0                              ok lar joke wif u oni\n",
       "2     1  free entry wkly comp win fa cup final tkts st ...\n",
       "3     0                u dun say early hor u c already say\n",
       "4     0                nah think go usf live around though"
      ]
     },
     "execution_count": 15,
     "metadata": {},
     "output_type": "execute_result"
    }
   ],
   "source": [
    "# final data to build the model\n",
    "spam_message.head()"
   ]
  },
  {
   "cell_type": "markdown",
   "id": "11af98e8",
   "metadata": {
    "papermill": {
     "duration": 0.010032,
     "end_time": "2022-09-07T03:39:59.386288",
     "exception": false,
     "start_time": "2022-09-07T03:39:59.376256",
     "status": "completed"
    },
    "tags": []
   },
   "source": [
    "# **Defining Target and Independent Features**"
   ]
  },
  {
   "cell_type": "code",
   "execution_count": 16,
   "id": "985672ba",
   "metadata": {
    "execution": {
     "iopub.execute_input": "2022-09-07T03:39:59.410855Z",
     "iopub.status.busy": "2022-09-07T03:39:59.409984Z",
     "iopub.status.idle": "2022-09-07T03:39:59.416103Z",
     "shell.execute_reply": "2022-09-07T03:39:59.414671Z"
    },
    "papermill": {
     "duration": 0.022189,
     "end_time": "2022-09-07T03:39:59.419313",
     "exception": false,
     "start_time": "2022-09-07T03:39:59.397124",
     "status": "completed"
    },
    "tags": []
   },
   "outputs": [],
   "source": [
    "Y = spam_message['type']\n",
    "X = spam_message['text']"
   ]
  },
  {
   "cell_type": "markdown",
   "id": "8eeae895",
   "metadata": {
    "papermill": {
     "duration": 0.011152,
     "end_time": "2022-09-07T03:39:59.440888",
     "exception": false,
     "start_time": "2022-09-07T03:39:59.429736",
     "status": "completed"
    },
    "tags": []
   },
   "source": [
    "# **Spliting the Dataset for Training & Testing**"
   ]
  },
  {
   "cell_type": "code",
   "execution_count": 17,
   "id": "96977822",
   "metadata": {
    "execution": {
     "iopub.execute_input": "2022-09-07T03:39:59.464631Z",
     "iopub.status.busy": "2022-09-07T03:39:59.464095Z",
     "iopub.status.idle": "2022-09-07T03:39:59.472298Z",
     "shell.execute_reply": "2022-09-07T03:39:59.470940Z"
    },
    "papermill": {
     "duration": 0.023595,
     "end_time": "2022-09-07T03:39:59.475322",
     "exception": false,
     "start_time": "2022-09-07T03:39:59.451727",
     "status": "completed"
    },
    "tags": []
   },
   "outputs": [],
   "source": [
    "X_train, X_test, y_train, y_test = train_test_split(X.values, Y.values,test_size = 0.2,random_state =3)"
   ]
  },
  {
   "cell_type": "markdown",
   "id": "8531e927",
   "metadata": {
    "papermill": {
     "duration": 0.010967,
     "end_time": "2022-09-07T03:39:59.496680",
     "exception": false,
     "start_time": "2022-09-07T03:39:59.485713",
     "status": "completed"
    },
    "tags": []
   },
   "source": [
    "# **Converting Text data into Vector form**"
   ]
  },
  {
   "cell_type": "code",
   "execution_count": 18,
   "id": "1417b111",
   "metadata": {
    "execution": {
     "iopub.execute_input": "2022-09-07T03:39:59.519756Z",
     "iopub.status.busy": "2022-09-07T03:39:59.519210Z",
     "iopub.status.idle": "2022-09-07T03:39:59.610754Z",
     "shell.execute_reply": "2022-09-07T03:39:59.609526Z"
    },
    "papermill": {
     "duration": 0.106637,
     "end_time": "2022-09-07T03:39:59.613725",
     "exception": false,
     "start_time": "2022-09-07T03:39:59.507088",
     "status": "completed"
    },
    "tags": []
   },
   "outputs": [],
   "source": [
    "# using TF-IDF word vectorization technique to convert our text data into numerical format.\n",
    "\n",
    "vectorizer = TfidfVectorizer()\n",
    "train_vectors = vectorizer.fit_transform(X_train)\n",
    "test_vectors = vectorizer.transform(X_test)\n"
   ]
  },
  {
   "cell_type": "markdown",
   "id": "88a18c85",
   "metadata": {
    "papermill": {
     "duration": 0.009787,
     "end_time": "2022-09-07T03:39:59.633794",
     "exception": false,
     "start_time": "2022-09-07T03:39:59.624007",
     "status": "completed"
    },
    "tags": []
   },
   "source": [
    "# **Model Building and Evaluation**"
   ]
  },
  {
   "cell_type": "code",
   "execution_count": 19,
   "id": "5f5640b8",
   "metadata": {
    "execution": {
     "iopub.execute_input": "2022-09-07T03:39:59.656961Z",
     "iopub.status.busy": "2022-09-07T03:39:59.655568Z",
     "iopub.status.idle": "2022-09-07T03:39:59.667413Z",
     "shell.execute_reply": "2022-09-07T03:39:59.666122Z"
    },
    "papermill": {
     "duration": 0.026452,
     "end_time": "2022-09-07T03:39:59.670379",
     "exception": false,
     "start_time": "2022-09-07T03:39:59.643927",
     "status": "completed"
    },
    "tags": []
   },
   "outputs": [],
   "source": [
    "#  Model training and evaluation\n",
    "acc_list =[]\n",
    "recall_list =[]\n",
    "precision_list =[]\n",
    "f1_score_list = []\n",
    "\n",
    "def modelEval(xtr,ytr,xte,yte,model):\n",
    "    \n",
    "    model.fit(xtr,ytr)\n",
    "    \n",
    "    # Prediction for Test and Train Dataset\n",
    "    test_pred=model.predict(xte)\n",
    "    train_pred =model.predict(xtr)\n",
    "    \n",
    "    tpr_score = metrics.precision_score(ytr, train_pred)\n",
    "    trc_score = metrics.recall_score(ytr, train_pred)\n",
    "    tac_score =metrics.accuracy_score(ytr,train_pred)\n",
    "\n",
    "    # Making Confusion Matrix and calculating accuracy score\n",
    "    print(\"For Training Dataset.\")   \n",
    "    print(f'Accuracy: {tac_score:.4f}, Precision: {tpr_score:.2f}, Recall: {trc_score:.2f}')\n",
    "    print(\"===============================\")\n",
    "    pr_score = metrics.precision_score(yte, test_pred)\n",
    "    rc_score = metrics.recall_score(yte, test_pred)\n",
    "    ac_score = metrics.accuracy_score(yte, test_pred)\n",
    "    f1_sore = metrics.f1_score(yte, test_pred)\n",
    "    \n",
    "    print(\"===============================\")\n",
    "    print(\"===============================\")\n",
    "    print(\"For Testing Dataset\")\n",
    "    print(\"===============================\")\n",
    "    print(f'Accuracy: {ac_score:.2f}, Precision: {pr_score:.2f}, Recall: {rc_score:.2f}')\n",
    "    print(\"===============================\")\n",
    "    print(classification_report(yte,test_pred))\n",
    "    metrics.plot_confusion_matrix(model,xte,yte,cmap='GnBu')\n",
    "    \n",
    "    acc_list.append(round(ac_score,2))\n",
    "    recall_list.append(round(rc_score,2))\n",
    "    precision_list.append(round(pr_score,2))\n",
    "    f1_score_list.append(round(f1_sore,2))\n",
    "    \n"
   ]
  },
  {
   "cell_type": "markdown",
   "id": "c2fa7d3c",
   "metadata": {
    "papermill": {
     "duration": 0.009765,
     "end_time": "2022-09-07T03:39:59.690835",
     "exception": false,
     "start_time": "2022-09-07T03:39:59.681070",
     "status": "completed"
    },
    "tags": []
   },
   "source": [
    "#  **Support Vector Classifier**"
   ]
  },
  {
   "cell_type": "code",
   "execution_count": 20,
   "id": "c2da50d8",
   "metadata": {
    "execution": {
     "iopub.execute_input": "2022-09-07T03:39:59.713517Z",
     "iopub.status.busy": "2022-09-07T03:39:59.712988Z",
     "iopub.status.idle": "2022-09-07T03:40:01.159566Z",
     "shell.execute_reply": "2022-09-07T03:40:01.157614Z"
    },
    "papermill": {
     "duration": 1.462351,
     "end_time": "2022-09-07T03:40:01.163314",
     "exception": false,
     "start_time": "2022-09-07T03:39:59.700963",
     "status": "completed"
    },
    "tags": []
   },
   "outputs": [
    {
     "name": "stdout",
     "output_type": "stream",
     "text": [
      "For Training Dataset.\n",
      "Accuracy: 0.9933, Precision: 0.99, Recall: 0.96\n",
      "===============================\n",
      "===============================\n",
      "===============================\n",
      "For Testing Dataset\n",
      "===============================\n",
      "Accuracy: 0.99, Precision: 0.99, Recall: 0.90\n",
      "===============================\n",
      "              precision    recall  f1-score   support\n",
      "\n",
      "           0       0.98      1.00      0.99       960\n",
      "           1       0.99      0.90      0.95       155\n",
      "\n",
      "    accuracy                           0.99      1115\n",
      "   macro avg       0.99      0.95      0.97      1115\n",
      "weighted avg       0.99      0.99      0.99      1115\n",
      "\n"
     ]
    },
    {
     "data": {
      "image/png": "[encoded data removed]",
      "text/plain": [
       "<Figure size 432x288 with 2 Axes>"
      ]
     },
     "metadata": {
      "needs_background": "light"
     },
     "output_type": "display_data"
    }
   ],
   "source": [
    "svc_model = svm.SVC(kernel= 'linear')\n",
    "modelEval(train_vectors,y_train,test_vectors,y_test,svc_model)"
   ]
  },
  {
   "cell_type": "markdown",
   "id": "8926a19a",
   "metadata": {
    "papermill": {
     "duration": 0.010474,
     "end_time": "2022-09-07T03:40:01.185122",
     "exception": false,
     "start_time": "2022-09-07T03:40:01.174648",
     "status": "completed"
    },
    "tags": []
   },
   "source": [
    "# **Naive Bayes Model**"
   ]
  },
  {
   "cell_type": "code",
   "execution_count": 21,
   "id": "df0bf048",
   "metadata": {
    "execution": {
     "iopub.execute_input": "2022-09-07T03:40:01.209283Z",
     "iopub.status.busy": "2022-09-07T03:40:01.208288Z",
     "iopub.status.idle": "2022-09-07T03:40:01.471897Z",
     "shell.execute_reply": "2022-09-07T03:40:01.470431Z"
    },
    "papermill": {
     "duration": 0.279168,
     "end_time": "2022-09-07T03:40:01.474851",
     "exception": false,
     "start_time": "2022-09-07T03:40:01.195683",
     "status": "completed"
    },
    "tags": []
   },
   "outputs": [
    {
     "name": "stdout",
     "output_type": "stream",
     "text": [
      "For Training Dataset.\n",
      "Accuracy: 0.9778, Precision: 1.00, Recall: 0.83\n",
      "===============================\n",
      "===============================\n",
      "===============================\n",
      "For Testing Dataset\n",
      "===============================\n",
      "Accuracy: 0.97, Precision: 1.00, Recall: 0.75\n",
      "===============================\n",
      "              precision    recall  f1-score   support\n",
      "\n",
      "           0       0.96      1.00      0.98       960\n",
      "           1       1.00      0.75      0.86       155\n",
      "\n",
      "    accuracy                           0.97      1115\n",
      "   macro avg       0.98      0.87      0.92      1115\n",
      "weighted avg       0.97      0.97      0.96      1115\n",
      "\n"
     ]
    },
    {
     "data": {
      "image/png": "[encoded data removed]",
      "text/plain": [
       "<Figure size 432x288 with 2 Axes>"
      ]
     },
     "metadata": {
      "needs_background": "light"
     },
     "output_type": "display_data"
    }
   ],
   "source": [
    "spam_detect_model = naive_bayes.MultinomialNB()\n",
    "modelEval(train_vectors,y_train,test_vectors,y_test,spam_detect_model)"
   ]
  },
  {
   "cell_type": "markdown",
   "id": "30f13703",
   "metadata": {
    "papermill": {
     "duration": 0.011076,
     "end_time": "2022-09-07T03:40:01.497586",
     "exception": false,
     "start_time": "2022-09-07T03:40:01.486510",
     "status": "completed"
    },
    "tags": []
   },
   "source": [
    "# **K-Nearest Neighbors**"
   ]
  },
  {
   "cell_type": "code",
   "execution_count": 22,
   "id": "4add8cda",
   "metadata": {
    "execution": {
     "iopub.execute_input": "2022-09-07T03:40:01.523977Z",
     "iopub.status.busy": "2022-09-07T03:40:01.523479Z",
     "iopub.status.idle": "2022-09-07T03:40:03.020688Z",
     "shell.execute_reply": "2022-09-07T03:40:03.019210Z"
    },
    "papermill": {
     "duration": 1.513488,
     "end_time": "2022-09-07T03:40:03.023473",
     "exception": false,
     "start_time": "2022-09-07T03:40:01.509985",
     "status": "completed"
    },
    "tags": []
   },
   "outputs": [
    {
     "name": "stdout",
     "output_type": "stream",
     "text": [
      "For Training Dataset.\n",
      "Accuracy: 0.9300, Precision: 1.00, Recall: 0.47\n",
      "===============================\n",
      "===============================\n",
      "===============================\n",
      "For Testing Dataset\n",
      "===============================\n",
      "Accuracy: 0.91, Precision: 1.00, Recall: 0.37\n",
      "===============================\n",
      "              precision    recall  f1-score   support\n",
      "\n",
      "           0       0.91      1.00      0.95       960\n",
      "           1       1.00      0.37      0.54       155\n",
      "\n",
      "    accuracy                           0.91      1115\n",
      "   macro avg       0.95      0.68      0.74      1115\n",
      "weighted avg       0.92      0.91      0.89      1115\n",
      "\n"
     ]
    },
    {
     "data": {
      "image/png": "[encoded data removed]",
      "text/plain": [
       "<Figure size 432x288 with 2 Axes>"
      ]
     },
     "metadata": {
      "needs_background": "light"
     },
     "output_type": "display_data"
    }
   ],
   "source": [
    "knn_model = KNeighborsClassifier()\n",
    "modelEval(train_vectors,y_train,test_vectors,y_test,knn_model)"
   ]
  },
  {
   "cell_type": "markdown",
   "id": "07eeccf7",
   "metadata": {
    "papermill": {
     "duration": 0.010788,
     "end_time": "2022-09-07T03:40:03.045532",
     "exception": false,
     "start_time": "2022-09-07T03:40:03.034744",
     "status": "completed"
    },
    "tags": []
   },
   "source": [
    "# **Random Forest Classifier**"
   ]
  },
  {
   "cell_type": "code",
   "execution_count": 23,
   "id": "227db58c",
   "metadata": {
    "execution": {
     "iopub.execute_input": "2022-09-07T03:40:03.070642Z",
     "iopub.status.busy": "2022-09-07T03:40:03.069654Z",
     "iopub.status.idle": "2022-09-07T03:40:04.904250Z",
     "shell.execute_reply": "2022-09-07T03:40:04.902422Z"
    },
    "papermill": {
     "duration": 1.851002,
     "end_time": "2022-09-07T03:40:04.907466",
     "exception": false,
     "start_time": "2022-09-07T03:40:03.056464",
     "status": "completed"
    },
    "tags": []
   },
   "outputs": [
    {
     "name": "stdout",
     "output_type": "stream",
     "text": [
      "For Training Dataset.\n",
      "Accuracy: 1.0000, Precision: 1.00, Recall: 1.00\n",
      "===============================\n",
      "===============================\n",
      "===============================\n",
      "For Testing Dataset\n",
      "===============================\n",
      "Accuracy: 0.98, Precision: 1.00, Recall: 0.86\n",
      "===============================\n",
      "              precision    recall  f1-score   support\n",
      "\n",
      "           0       0.98      1.00      0.99       960\n",
      "           1       1.00      0.86      0.92       155\n",
      "\n",
      "    accuracy                           0.98      1115\n",
      "   macro avg       0.99      0.93      0.96      1115\n",
      "weighted avg       0.98      0.98      0.98      1115\n",
      "\n"
     ]
    },
    {
     "data": {
      "image/png": "[encoded data removed]",
      "text/plain": [
       "<Figure size 432x288 with 2 Axes>"
      ]
     },
     "metadata": {
      "needs_background": "light"
     },
     "output_type": "display_data"
    }
   ],
   "source": [
    "rf_model = RandomForestClassifier()\n",
    "modelEval(train_vectors,y_train,test_vectors,y_test,rf_model)"
   ]
  },
  {
   "cell_type": "code",
   "execution_count": 24,
   "id": "128f6392",
   "metadata": {
    "execution": {
     "iopub.execute_input": "2022-09-07T03:40:04.935357Z",
     "iopub.status.busy": "2022-09-07T03:40:04.934493Z",
     "iopub.status.idle": "2022-09-07T03:40:04.942501Z",
     "shell.execute_reply": "2022-09-07T03:40:04.941288Z"
    },
    "papermill": {
     "duration": 0.025586,
     "end_time": "2022-09-07T03:40:04.945403",
     "exception": false,
     "start_time": "2022-09-07T03:40:04.919817",
     "status": "completed"
    },
    "tags": []
   },
   "outputs": [],
   "source": [
    "# initialise data with model results\n",
    "data = {'Accuracy':acc_list,\n",
    "'Precision':precision_list,\n",
    "'Recall':recall_list,\n",
    "'F1score':f1_score_list}\n",
    "\n",
    "# creates pandas DataFrame \n",
    "output = pd.DataFrame(data, index =[\"SVC\",\"NaiveBayes\",\"KNN\" ,\"RandomForest\"])"
   ]
  },
  {
   "cell_type": "code",
   "execution_count": 25,
   "id": "5d4ce7c8",
   "metadata": {
    "execution": {
     "iopub.execute_input": "2022-09-07T03:40:04.971439Z",
     "iopub.status.busy": "2022-09-07T03:40:04.970563Z",
     "iopub.status.idle": "2022-09-07T03:40:05.057859Z",
     "shell.execute_reply": "2022-09-07T03:40:05.056219Z"
    },
    "papermill": {
     "duration": 0.103647,
     "end_time": "2022-09-07T03:40:05.061012",
     "exception": false,
     "start_time": "2022-09-07T03:40:04.957365",
     "status": "completed"
    },
    "tags": []
   },
   "outputs": [
    {
     "name": "stdout",
     "output_type": "stream",
     "text": [
      "Results for Testing Dataset\n"
     ]
    },
    {
     "data": {
      "text/html": [
       "<style type=\"text/css\">\n",
       "#T_66056_row0_col0, #T_66056_row0_col2, #T_66056_row0_col3, #T_66056_row1_col1, #T_66056_row2_col1, #T_66056_row3_col1 {\n",
       "  background-color: #084081;\n",
       "  color: #f1f1f1;\n",
       "}\n",
       "#T_66056_row0_col1, #T_66056_row2_col0, #T_66056_row2_col2, #T_66056_row2_col3 {\n",
       "  background-color: #f7fcf0;\n",
       "  color: #000000;\n",
       "}\n",
       "#T_66056_row1_col0 {\n",
       "  background-color: #2b8cbe;\n",
       "  color: #f1f1f1;\n",
       "}\n",
       "#T_66056_row1_col2 {\n",
       "  background-color: #3496c3;\n",
       "  color: #f1f1f1;\n",
       "}\n",
       "#T_66056_row1_col3 {\n",
       "  background-color: #2283ba;\n",
       "  color: #f1f1f1;\n",
       "}\n",
       "#T_66056_row3_col0 {\n",
       "  background-color: #0868ac;\n",
       "  color: #f1f1f1;\n",
       "}\n",
       "#T_66056_row3_col2 {\n",
       "  background-color: #08589b;\n",
       "  color: #f1f1f1;\n",
       "}\n",
       "#T_66056_row3_col3 {\n",
       "  background-color: #085799;\n",
       "  color: #f1f1f1;\n",
       "}\n",
       "</style>\n",
       "<table id=\"T_66056_\">\n",
       "  <thead>\n",
       "    <tr>\n",
       "      <th class=\"blank level0\" >&nbsp;</th>\n",
       "      <th class=\"col_heading level0 col0\" >Accuracy</th>\n",
       "      <th class=\"col_heading level0 col1\" >Precision</th>\n",
       "      <th class=\"col_heading level0 col2\" >Recall</th>\n",
       "      <th class=\"col_heading level0 col3\" >F1score</th>\n",
       "    </tr>\n",
       "  </thead>\n",
       "  <tbody>\n",
       "    <tr>\n",
       "      <th id=\"T_66056_level0_row0\" class=\"row_heading level0 row0\" >SVC</th>\n",
       "      <td id=\"T_66056_row0_col0\" class=\"data row0 col0\" >0.990000</td>\n",
       "      <td id=\"T_66056_row0_col1\" class=\"data row0 col1\" >0.990000</td>\n",
       "      <td id=\"T_66056_row0_col2\" class=\"data row0 col2\" >0.900000</td>\n",
       "      <td id=\"T_66056_row0_col3\" class=\"data row0 col3\" >0.950000</td>\n",
       "    </tr>\n",
       "    <tr>\n",
       "      <th id=\"T_66056_level0_row1\" class=\"row_heading level0 row1\" >NaiveBayes</th>\n",
       "      <td id=\"T_66056_row1_col0\" class=\"data row1 col0\" >0.970000</td>\n",
       "      <td id=\"T_66056_row1_col1\" class=\"data row1 col1\" >1.000000</td>\n",
       "      <td id=\"T_66056_row1_col2\" class=\"data row1 col2\" >0.750000</td>\n",
       "      <td id=\"T_66056_row1_col3\" class=\"data row1 col3\" >0.860000</td>\n",
       "    </tr>\n",
       "    <tr>\n",
       "      <th id=\"T_66056_level0_row2\" class=\"row_heading level0 row2\" >KNN</th>\n",
       "      <td id=\"T_66056_row2_col0\" class=\"data row2 col0\" >0.910000</td>\n",
       "      <td id=\"T_66056_row2_col1\" class=\"data row2 col1\" >1.000000</td>\n",
       "      <td id=\"T_66056_row2_col2\" class=\"data row2 col2\" >0.370000</td>\n",
       "      <td id=\"T_66056_row2_col3\" class=\"data row2 col3\" >0.540000</td>\n",
       "    </tr>\n",
       "    <tr>\n",
       "      <th id=\"T_66056_level0_row3\" class=\"row_heading level0 row3\" >RandomForest</th>\n",
       "      <td id=\"T_66056_row3_col0\" class=\"data row3 col0\" >0.980000</td>\n",
       "      <td id=\"T_66056_row3_col1\" class=\"data row3 col1\" >1.000000</td>\n",
       "      <td id=\"T_66056_row3_col2\" class=\"data row3 col2\" >0.860000</td>\n",
       "      <td id=\"T_66056_row3_col3\" class=\"data row3 col3\" >0.920000</td>\n",
       "    </tr>\n",
       "  </tbody>\n",
       "</table>\n"
      ],
      "text/plain": [
       "<pandas.io.formats.style.Styler at 0x7fa5ca70db10>"
      ]
     },
     "execution_count": 25,
     "metadata": {},
     "output_type": "execute_result"
    }
   ],
   "source": [
    "print(\"Results for Testing Dataset\")\n",
    "output.style.background_gradient(cmap='GnBu')"
   ]
  },
  {
   "cell_type": "markdown",
   "id": "7828dc43",
   "metadata": {
    "papermill": {
     "duration": 0.011701,
     "end_time": "2022-09-07T03:40:05.085091",
     "exception": false,
     "start_time": "2022-09-07T03:40:05.073390",
     "status": "completed"
    },
    "tags": []
   },
   "source": [
    "**Thank you for reviewing my notebook.**\n",
    "\n",
    "**Please, write your comments for me.**\n",
    "\n",
    "**If you liked my notebook, please upvote.**"
   ]
  }
 ],
 "metadata": {
  "kernelspec": {
   "display_name": "Python 3",
   "language": "python",
   "name": "python3"
  },
  "language_info": {
   "codemirror_mode": {
    "name": "ipython",
    "version": 3
   },
   "file_extension": ".py",
   "mimetype": "text/x-python",
   "name": "python",
   "nbconvert_exporter": "python",
   "pygments_lexer": "ipython3",
   "version": "3.7.12"
  },
  "papermill": {
   "default_parameters": {},
   "duration": 38.934847,
   "end_time": "2022-09-07T03:40:06.628178",
   "environment_variables": {},
   "exception": null,
   "input_path": "__notebook__.ipynb",
   "output_path": "__notebook__.ipynb",
   "parameters": {},
   "start_time": "2022-09-07T03:39:27.693331",
   "version": "2.3.4"
  }
 },
 "nbformat": 4,
 "nbformat_minor": 5
}
